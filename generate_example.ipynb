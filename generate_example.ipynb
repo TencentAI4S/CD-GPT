{
 "cells": [
  {
   "cell_type": "markdown",
   "metadata": {},
   "source": [
    "# Example of generation "
   ]
  },
  {
   "cell_type": "code",
   "execution_count": 1,
   "metadata": {},
   "outputs": [
    {
     "name": "stdout",
     "output_type": "stream",
     "text": [
      "Intel MKL WARNING: Support of Intel(R) Streaming SIMD Extensions 4.2 (Intel(R) SSE4.2) enabled only processors has been deprecated. Intel oneAPI Math Kernel Library 2025.0 will require Intel(R) Advanced Vector Extensions (Intel(R) AVX) instructions.\n",
      "Intel MKL WARNING: Support of Intel(R) Streaming SIMD Extensions 4.2 (Intel(R) SSE4.2) enabled only processors has been deprecated. Intel oneAPI Math Kernel Library 2025.0 will require Intel(R) Advanced Vector Extensions (Intel(R) AVX) instructions.\n"
     ]
    }
   ],
   "source": [
    "import torch\n",
    "from config import get_config\n",
    "from model import CDGPT\n",
    "from tokenizer import SentencePieceTokenizer\n"
   ]
  },
  {
   "cell_type": "code",
   "execution_count": 2,
   "metadata": {},
   "outputs": [
    {
     "data": {
      "text/plain": [
       "<torch.autograd.grad_mode.set_grad_enabled at 0x121040140>"
      ]
     },
     "execution_count": 2,
     "metadata": {},
     "output_type": "execute_result"
    }
   ],
   "source": [
    "torch.set_grad_enabled(False)"
   ]
  },
  {
   "cell_type": "code",
   "execution_count": 3,
   "metadata": {},
   "outputs": [
    {
     "name": "stderr",
     "output_type": "stream",
     "text": [
      "WARNING:root:change bos token id from -1 to 1\n"
     ]
    }
   ],
   "source": [
    "tokenizer_path = \"checkpoints/tokenizer.model\"\n",
    "cfg = get_config()\n",
    "cfg.tokenizer.path = tokenizer_path\n",
    "tokenizer = SentencePieceTokenizer(tokenizer_path)"
   ]
  },
  {
   "cell_type": "code",
   "execution_count": 4,
   "metadata": {},
   "outputs": [],
   "source": [
    "from Bio import SeqIO\n",
    "from Bio.Seq import Seq\n",
    "from Bio.SeqRecord import SeqRecord\n",
    "\n",
    "fasta_file = \"example.fasta\"\n",
    "parser = SeqIO.parse(fasta_file, \"fasta\")\n",
    "dna_record = next(parser)\n",
    "protein_record = next(parser)\n",
    "reverse_translate_record = next(parser)"
   ]
  },
  {
   "cell_type": "markdown",
   "metadata": {},
   "source": [
    "## Translation generation"
   ]
  },
  {
   "cell_type": "code",
   "execution_count": 4,
   "metadata": {},
   "outputs": [
    {
     "name": "stderr",
     "output_type": "stream",
     "text": [
      "WARNING:root:change bos token id from -1 to 1\n"
     ]
    },
    {
     "name": "stdout",
     "output_type": "stream",
     "text": [
      "number of parameters: 1059.38M\n"
     ]
    },
    {
     "data": {
      "text/plain": [
       "CDGPT(\n",
       "  (transformer): ModuleDict(\n",
       "    (wte): Embedding(64000, 2304)\n",
       "    (h): ModuleList(\n",
       "      (0-11): 12 x Block(\n",
       "        (attn): CasualSelfAttention(\n",
       "          (c_attn): Linear(in_features=2304, out_features=6912, bias=False)\n",
       "          (c_proj): Linear(in_features=2304, out_features=2304, bias=False)\n",
       "        )\n",
       "        (mlp): SwiGLU(\n",
       "          (c_fc1): Linear(in_features=2304, out_features=6144, bias=False)\n",
       "          (c_fc2): Linear(in_features=2304, out_features=6144, bias=False)\n",
       "          (c_proj): Linear(in_features=6144, out_features=2304, bias=False)\n",
       "        )\n",
       "        (rms_1): RMSNorm()\n",
       "        (rms_2): RMSNorm()\n",
       "      )\n",
       "    )\n",
       "    (ln_f): RMSNorm()\n",
       "  )\n",
       "  (lm_head): Linear(in_features=2304, out_features=64000, bias=False)\n",
       ")"
      ]
     },
     "execution_count": 4,
     "metadata": {},
     "output_type": "execute_result"
    }
   ],
   "source": [
    "model_path = \"checkpoints/CD-GPT-1b.pth\"\n",
    "state = torch.load(model_path, map_location=\"cpu\")\n",
    "model = CDGPT(cfg)\n",
    "model.load_state_dict(state[\"model\"], strict=True)\n",
    "device = torch.device(\"cuda:0\" if torch.cuda.is_available() else \"cpu\")\n",
    "model.half().to(device).eval()"
   ]
  },
  {
   "cell_type": "code",
   "execution_count": 6,
   "metadata": {},
   "outputs": [],
   "source": [
    "prompt = f\"<mRNA>{str(dna_record.seq)}</mRNA><translate><:>\"\n",
    "x = tokenizer.encode(prompt, eos=False, device=device)\n",
    "output = model.generate(x,\n",
    "                        max_new_tokens=128,\n",
    "                        temperature=0.8,\n",
    "                        top_k=128,\n",
    "                        top_p=0.0,\n",
    "                        stop_ids=(tokenizer.bos, tokenizer.eos, tokenizer.pad)\n",
    "                        )\n",
    "output = tokenizer.decode(output.sequences)"
   ]
  },
  {
   "cell_type": "code",
   "execution_count": 7,
   "metadata": {},
   "outputs": [],
   "source": [
    "output = output[len(prompt):]\n",
    "translate_res = output.split(\"</protein>\")[0]"
   ]
  },
  {
   "cell_type": "code",
   "execution_count": 65,
   "metadata": {},
   "outputs": [
    {
     "name": "stdout",
     "output_type": "stream",
     "text": [
      "GROUND TRUTH ABOVE, GENERATION BELOW, MISMATCHES IN \u001b[91mRED\u001b[0m\n",
      "MSGLHRSSSAPMKKGLPPKELLDDLCSRFVLNVPKEDLESFERILFLVENAHWFYEDNSVERDPSLKSLTLKEFTSLIFNSCDVLKPYVPHLDDIFKDFTSYKVRVPVTGAIIL\n",
      "MSGLHRSSSA\u001b[91mA\u001b[0m\u001b[91mP\u001b[0m\u001b[91mM\u001b[0mK\u001b[91mK\u001b[0m\u001b[91mG\u001b[0m\u001b[91mL\u001b[0mP\u001b[91mP\u001b[0m\u001b[91mK\u001b[0m\u001b[91mE\u001b[0mL\u001b[91mL\u001b[0mD\u001b[91mD\u001b[0m\u001b[91mL\u001b[0m\u001b[91mC\u001b[0m\u001b[91mS\u001b[0m\u001b[91mR\u001b[0m\u001b[91mF\u001b[0m\u001b[91mV\u001b[0m\u001b[91mL\u001b[0m\u001b[91mN\u001b[0m\u001b[91mV\u001b[0m\u001b[91mP\u001b[0m\u001b[91mK\u001b[0m\u001b[91mE\u001b[0m\u001b[91mD\u001b[0m\u001b[91mL\u001b[0m\u001b[91mE\u001b[0m\u001b[91mS\u001b[0m\u001b[91mF\u001b[0m\u001b[91mE\u001b[0m\u001b[91mR\u001b[0m\u001b[91mI\u001b[0m\u001b[91mL\u001b[0m\u001b[91mF\u001b[0m\u001b[91mL\u001b[0m\u001b[91mV\u001b[0m\u001b[91mE\u001b[0m\u001b[91mN\u001b[0m\u001b[91mA\u001b[0m\u001b[91mH\u001b[0m\u001b[91mW\u001b[0m\u001b[91mF\u001b[0m\u001b[91mY\u001b[0m\u001b[91mE\u001b[0m\u001b[91mD\u001b[0m\u001b[91mN\u001b[0m\u001b[91mS\u001b[0m\u001b[91mV\u001b[0m\u001b[91mE\u001b[0m\u001b[91mR\u001b[0m\u001b[91mD\u001b[0m\u001b[91mP\u001b[0m\u001b[91mS\u001b[0m\u001b[91mL\u001b[0m\u001b[91mK\u001b[0m\u001b[91mS\u001b[0m\u001b[91mL\u001b[0m\u001b[91mT\u001b[0m\u001b[91mL\u001b[0m\u001b[91mK\u001b[0m\u001b[91mE\u001b[0m\u001b[91mF\u001b[0m\u001b[91mT\u001b[0m\u001b[91mS\u001b[0m\u001b[91mL\u001b[0m\u001b[91mI\u001b[0m\u001b[91mF\u001b[0m\u001b[91mN\u001b[0m\u001b[91mS\u001b[0m\u001b[91mC\u001b[0mV\u001b[91mV\u001b[0m\u001b[91mL\u001b[0m\u001b[91mK\u001b[0m\u001b[91mP\u001b[0m\u001b[91mY\u001b[0m\u001b[91mV\u001b[0m\u001b[91mP\u001b[0m\u001b[91mH\u001b[0m\u001b[91mL\u001b[0mD\u001b[91mD\u001b[0m\u001b[91mI\u001b[0m\u001b[91mF\u001b[0m\u001b[91mK\u001b[0m\u001b[91mD\u001b[0m\u001b[91mF\u001b[0m\u001b[91mT\u001b[0m\u001b[91mS\u001b[0m\u001b[91mY\u001b[0m\u001b[91mK\u001b[0m\u001b[91mV\u001b[0m\u001b[91mR\u001b[0m\u001b[91mV\u001b[0m\u001b[91mP\u001b[0m\u001b[91mV\u001b[0m\u001b[91mT\u001b[0m\u001b[91mG\u001b[0m\u001b[91mA\u001b[0mI\u001b[91mI\u001b[0m"
     ]
    }
   ],
   "source": [
    "translate_gt = str(dna_record.seq.translate())\n",
    "print(f\"GROUND TRUTH ABOVE, GENERATION BELOW, MISMATCHES IN \\033[91mRED\\033[0m\")\n",
    "print(translate_gt)\n",
    "for i in range(len(translate_gt)):\n",
    "    if translate_res[i] == translate_gt[i]:\n",
    "        print(translate_res[i], end=\"\")\n",
    "    else:\n",
    "        print(f\"\\033[91m{translate_res[i]}\\033[0m\", end=\"\")\n"
   ]
  },
  {
   "cell_type": "markdown",
   "metadata": {},
   "source": [
    "## Reverse translation generation"
   ]
  },
  {
   "cell_type": "code",
   "execution_count": 5,
   "metadata": {},
   "outputs": [
    {
     "name": "stderr",
     "output_type": "stream",
     "text": [
      "WARNING:root:change bos token id from -1 to 1\n"
     ]
    },
    {
     "name": "stdout",
     "output_type": "stream",
     "text": [
      "number of parameters: 1059.38M\n"
     ]
    },
    {
     "data": {
      "text/plain": [
       "CDGPT(\n",
       "  (transformer): ModuleDict(\n",
       "    (wte): Embedding(64000, 2304)\n",
       "    (h): ModuleList(\n",
       "      (0-11): 12 x Block(\n",
       "        (attn): CasualSelfAttention(\n",
       "          (c_attn): Linear(in_features=2304, out_features=6912, bias=False)\n",
       "          (c_proj): Linear(in_features=2304, out_features=2304, bias=False)\n",
       "        )\n",
       "        (mlp): SwiGLU(\n",
       "          (c_fc1): Linear(in_features=2304, out_features=6144, bias=False)\n",
       "          (c_fc2): Linear(in_features=2304, out_features=6144, bias=False)\n",
       "          (c_proj): Linear(in_features=6144, out_features=2304, bias=False)\n",
       "        )\n",
       "        (rms_1): RMSNorm()\n",
       "        (rms_2): RMSNorm()\n",
       "      )\n",
       "    )\n",
       "    (ln_f): RMSNorm()\n",
       "  )\n",
       "  (lm_head): Linear(in_features=2304, out_features=64000, bias=False)\n",
       ")"
      ]
     },
     "execution_count": 5,
     "metadata": {},
     "output_type": "execute_result"
    }
   ],
   "source": [
    "# you can download this model from Tencent Weiyun Disk\n",
    "model_path = \"checkpoints/CD-GPT-1b-reverse-translation.pth\"\n",
    "state = torch.load(model_path, map_location=\"cpu\")\n",
    "model = CDGPT(cfg)\n",
    "model.load_state_dict(state[\"model\"], strict=True)\n",
    "device = torch.device(\"cuda:0\" if torch.cuda.is_available() else \"cpu\")\n",
    "model.half().to(device).eval()"
   ]
  },
  {
   "cell_type": "code",
   "execution_count": 6,
   "metadata": {},
   "outputs": [],
   "source": [
    "prompt = f\"<protein>{str(protein_record.seq)}</protein><reverse_translate><:>\"\n",
    "x = tokenizer.encode(prompt, eos=False, device=device)\n",
    "output = model.generate(x,\n",
    "                        max_new_tokens=1024,\n",
    "                        temperature=0.8,\n",
    "                        top_k=128,\n",
    "                        top_p=0.0,\n",
    "                        stop_ids=(tokenizer.bos, tokenizer.eos, tokenizer.pad)\n",
    "                        )\n",
    "output = tokenizer.decode(output.sequences)"
   ]
  },
  {
   "cell_type": "code",
   "execution_count": 7,
   "metadata": {},
   "outputs": [],
   "source": [
    "output = output[len(prompt):]\n",
    "reverse_translate_res = output.split(\"</mRNA>\")[0].split(\"<mRNA>\")[-1]"
   ]
  },
  {
   "cell_type": "code",
   "execution_count": 9,
   "metadata": {},
   "outputs": [
    {
     "name": "stdout",
     "output_type": "stream",
     "text": [
      "GROUND TRUTH ABOVE, GENERATION BELOW, MISMATCHES IN \u001b[91mRED\u001b[0m\n",
      "ATGATGTGTGAAGTGATGCCCACGATTAACGAGGACACCCCAATGAGCCAAAGGGGGTCCCAAAGCAGTGGCTCGGACTCAGACTCCCATTTTGAGCAGCTGATGGTGAATATGCTAGATGAAAGGGACCGTCTTCTAGACACCCTTCGGGAGACCCAAGAAAGCCTCTCACTTGCCCAGCAAAGACTGCAGGATGTCATCTATGACCGAGATTCACTCCAGCGACAGCTCAATTCAGCCCTGCCACAGGATATCGAATCCCTAACAGGAGGGCTGACTGGTTCTAAGGGGGCTGATCCGCCGGAATTTGCTGCTCTGACAAAAGAATTAAATGCCTGTAGGGAGCAACTTCTAGAAAAGGAAGAAGAAATTTCTGAACTTAAAGCTGAAAGAAACAACACAAGACTGTTACTGGAGCACTTGGAATGCCTGGTGTCCCGACATGAAAGGTCACTAAGAATGACAGTGGTGAAACGGCAAGCCCAGTCCCCCTCAGGAGTCTCCAGTGAGGTTGAGGTTCTCAAGGCACTGAAATCTTTGTTTGAGCACCACAAGGCCTTGGATGAAAAGGTAAGGGAGCGACTGAGGGTTTCTTTAGAAAGAGTCTCTGCACTGGAAGAAGAACTAGCTGCTGCTAATCAGGAGATTGTTGCCTTGCGTGAACAAAATGTTCATATACAAAGAAAAATGGCATCAAGTGAGGGGTCCACAGAATCAGAACATCTTGAAGGGATGGAACCTGGTCAGAAAGTCCATGAAAAGCGTTTGTCCAATGGCTCTATAGACTCAACTGATGAAACTAGTCAAATAGTCGAACTACAAGAATTGCTTGAAAAGCAAAACTATGAAATGGCTCAAATGAAAGAACGTTTAGCAGCCCTTTCTTCCCGAGTGGGGGAAGTGGAACAGGAAGCAGAGACAGCAAGAAAGGATCTCATTAAAACTGAAGAAATGAACACTAAGTATCAAAGGGACATCAGGGAGGCCATGGCACAGAAGGAAGATATGGAAGAAAGAATCACAACCCTTGAGAAGCGTTACCTCAGTGCTCAGAGAGAATCTACCTCCATACATGACATGAATGATAAACTAGAAAATGAGTTAGCAAATAAAGAGGCCATCCTACGGCAGATGGAAGAGAAAAACAGACAGTTACAAGAGCGTCTTGAGCTGGCTGAGCAAAAGTTGCAGCAGACTATGAGAAAAGCTGAGACCTTACCTGAAGTAGAGGCTGAACTGGCTCAGAGAATTGCAGCCTTGACAAAGGCCGAAGAGAGACATGGAAACATTGAAGAACGTATGAGACATCTAGAAGGTCAACTTGAAGAGAAAAATCAAGAACTTCAAAGAGCTAGGCAAAGAGAGAAAATGAATGAGGAGCACAACAAAAGATTGTCTGATACTGTGGACAGACTTCTGACTGAATCCAATGAGCGCTTACAGCTACATTTAAAGGAGAGAATGGCTGCTCTAGAAGAGAAGAATGTTTTAATTCAAGAATCAGAAGCTTTCAGAAAGAATCTGGAAGAATCTTTACATGATAAGGAAAGATTAGCAGAAGAAATTGAAAAGCTGAGATCTGAACTTGACCAATTGAAAATGAGAACTGGCTCTTTAATTGAACCCACAATATCAAGAACTCATCTAGACACCTCAGCTGAGTTGCGGTATTCTGTTGGCTCCCTAGTGGACAGCCAGTCTGATTACAGAACAACTAAAGTAATAAGAAGACCCAGGAGAGGCCGCATGGGTGTGCGAAGAGATGAGGCAAAGGTGAAGTCTCTTGGGGATCATGAGTGGACTAGAACTCAGCAAATTGGAGTGCTAAGCAGCCACCCTTTTGAAAGTGACACAGAAATGTCTGATATTGATGATGATGACAGAGAAACTATTTTTAGTTCAATGGATCTTCTCTCTCCAAGTGGTCATTCTGATGCCCAGACTCTAGCCATGATGCTTCAGGAACAATTGGATGCCATCAACAAAGAAATCAGGCTAATTCAGGAAGAAAAAGAATCCACGGAGTTACGTGCTGAAGAAATCGAGAACAGAGTGGCTAGTGTGAGCCTGGAAGGCCTGAATTTAGCAAGAGTCCACCCAGGCACCTCCATCACTGCCTCCGTTACAGCTTCTTCACTGGCCAGTTCATCTCCCCCGAGTGGACACTCAACGCCAAAGCTCACCCCTCGGAGTCCTGCCAGGGAAATGGATCGGATGGGAGTCATGACACTGCCAAGTGATCTAAGGAAACATCGGAGAAAGATTGCAGTGGTGGAAGAAGATGGTCGGGAGGATAAAGCAACAATTAAATGTGAAACTTCTCCTCCCCCTACCCCTAGAGCCATCAGGATGACTCACACCCTTCCCTCCTCCTACCACAATGATGCCCGAAGTAGTTTGTCTGCCTCCCTTGAGCCAGAAAGCCTTGGGCTTGGCAGTGCCAATAGCAGCCAAGACTCTCTTCACAAAGCCCCCAAGAAGAAGGGAATCAAGTCTTCAATAGGACGTCTGTTTGGTAAAAAAGAAAAAGCCCGACTTGGGCAGCTCCGAGGCTTTATGGAGACTGAGGCTGCCGCTCAGGAGTCCCTGGGGCTAGGCAAACTTGGAACTCAAGCTGAGAAGGATAGAAGACTGAAGAAAAAGCATGAACTTCTAGAAGAAGCTCGGAGGAAGGGATTACCTTTTGCTCAGTGGGATGGGCCCACTGTGGTTGCATGGCTGGAGCTCTGGTTGGGAATGCCTGCTTGGTACGTAGCAGCCTGCCGAGCCAACGTGAAAAGTGGAGCCATCATGTCTGCTTTATCAGACACTGAGATCCAGAGAGAAATCGGAATCAGCAATCCCCTGCATCGCTTAAAGCTGCGACTAGCAATCCAGGAGATGGTTTCCCTAACAAGTCCTTCAGCTCCTCCGACATCCCGAACTCCTTCAGGCAACGTTTGGGTGACCCATGAAGAAATGGAAAATCTGGCTGCTCCAGCAAAAACGAAAGAATCTGAGGAAGGAAGCTGGGCCCAGACTCTTGCTTATGGAGATATGAACCACGAGTGGATTGGAAATGAATGGCTTCCCAGCCTGGGGTTACCTCAATACAGAAGTTATTTCATGGAATGCTTGGTAGATGCAAGAATGTTAGATCACCTAACAAAAAAAGATCTCCGTGTCCATTTAAAAATGGTGGATAGTTTCCATCGAACAAGTTTACAATATGGAATTATGTGCTTAAAGAGGTTGAATTATGACAGAAAAGAACTAGAAAGAAGACGGGAAGCAAGCCAACATGAAATAAAAGATGTGTTGGTGTGGAGCAATGATCGAGTTATTCGCTGGATACAAGCAATTGGACTTCGAGAATATGCAAACAATATTCTTGAAAGTGGTGTGCATGGCTCACTTATAGCCCTGGATGAGAACTTTGACTACAGCAGCTTAGCTTTATTACTACAGATTCCAACCCAGAACACCCAGGCAAGGCAGATTCTTGAAAGGGAATACAATAACCTCCTGGCTCTGGGAACTGAACGGCGACTGGATGAAAGTGATGACAAGAATTTCAGGCGTGGGTCAACATGGAGAAGACAGTTTCCCCCCCGTGAGGTACATGGAATCAGCATGATGCCTGGGTCCTCAGAAACATTACCAGCTGGATTCAGGTTAACCACAACATCTGGGCAATCGAGGAAAATGACAACGGATGTTGCTTCATCAAGACTGCAGAGGTTAGACAACTCCACTGTTCGCACATACTCATGTTGA\n",
      "ATGATGTGTGAAGTGATGCCCACGATTAA\u001b[91mT\u001b[0mGAGGACACCCCAATGAGCCAAAGGGGGTCCCAAAGCAGTGGCTC\u001b[91mA\u001b[0mGACTCAGACTCCCATTTTGAGCAGCTGATGGTGAATATGCTAGATGAAAGGGACCGTCTTCTAGACACCCTTCGGGAGACCCAAGAAAGCCTCTC\u001b[91mG\u001b[0mCTTGCCCAGCAAAGACTGCAGGATGTCATCTATGAC\u001b[91mA\u001b[0mGAGATTC\u001b[91mG\u001b[0mCTCCAG\u001b[91mA\u001b[0mGACAGCTCAATTCAGCCCTGCCACAGGATATCGAATCCCTAACAGGAGGGCTGACTGGTTCTAAGGGGGCTGATCCGCCGGAATTTGCTGC\u001b[91mA\u001b[0mCTGACAAAAGAA\u001b[91mC\u001b[0mT\u001b[91mC\u001b[0mAATGC\u001b[91mT\u001b[0mTGTAGGGA\u001b[91mA\u001b[0mCAACTTCTAGAAAAGGAAGAAGAAATTTCTGAACT\u001b[91mG\u001b[0mAAAGCTGAAAGAAACAACAC\u001b[91mG\u001b[0mAGACTGTTACTGGAGCACTTGGAATGCCTGGTGTC\u001b[91mA\u001b[0mCGACATGAAAGGTC\u001b[91mG\u001b[0mCTAAGAATGAC\u001b[91mG\u001b[0mGTGGT\u001b[91mA\u001b[0mAAACGGCAAGCCCAGTCCCCCTC\u001b[91mG\u001b[0mGGAGT\u001b[91mG\u001b[0mTCCAGTGA\u001b[91mA\u001b[0mGT\u001b[91mC\u001b[0mGAGGTTCTCAAGGCACTGAAATCTTTGTTTGAGCACCACAAGGCCTTGGATGAAAAGGTAAGGGAGCGACTGAGGGTTTCTTTAGAAAGAGTCTCTGCACTGGAAGAAGAACTAGCTGCTGCTAATCAGGAGATTGTTGCCTTGCGTGAACAAAATGTTCATATACAAAGAAAAATGGCATCAAGTGAGGGGTCCACAGAATCAGAACA\u001b[91mC\u001b[0mCTTGAAGGGATGGAACCTGGTCAGAAAGTCCATGAAAAGCGTTTGTCCAATGG\u001b[91mT\u001b[0mTCTATAGACTCAACTGATGAAACTAG\u001b[91mC\u001b[0mCAAATAGTCGAACTACAAGAATTGCTTGAAAAGCAAAACTATGAAATGGCTCAAATGAA\u001b[91mG\u001b[0mGAACGTTTAGCAGC\u001b[91mA\u001b[0mCT\u001b[91mC\u001b[0mTCTTCCCGAGTGGG\u001b[91mA\u001b[0mGA\u001b[91mG\u001b[0mGTGGAACAGGAAGCAGAGACAGCAAGAAAGGATCTCATTAAAAC\u001b[91mA\u001b[0mGAAGAAATGAACACTAA\u001b[91mA\u001b[0mTATCAAAGGGACAT\u001b[91mT\u001b[0mAGGGAGGCCATGGCACAGAAGGAAGATATGGAAGAAAGAATCACAACCCTTGAGAA\u001b[91mA\u001b[0mCGTTACCTCAGTGCTCAGAGAGAATCTACCTCCATACATGACATGAATGATAAA\u001b[91mT\u001b[0mTAGAAAATGAGTTAGCAAATAAAGAGGCCATCCTACG\u001b[91mA\u001b[0mCAGATGGAAGAGAA\u001b[91mG\u001b[0mAACAG\u001b[91mG\u001b[0mCAGTTACAAGAGCGTCTTGAGCTGGCTGAGCAAAAGTTGCAGCAGACTATGAG\u001b[91mG\u001b[0mAAAGCTGAGACCTTACCTGAAGTAGAGGCTGAACTGGCTCAGAGAATTGCAGC\u001b[91mT\u001b[0m\u001b[91mC\u001b[0mTGACAAAGGC\u001b[91mT\u001b[0mGAAGAGAGACATGGAAACATTGAAGAACG\u001b[91mC\u001b[0mATGAGACATCTAGAAGGTCAACTTGAAGAGAAAAATCAAGAACTTCAAAGAGCTAGGCAAAGAGAGAAAATGAATGAGGAGCACAACAAAAGATT\u001b[91mA\u001b[0mTCTGATAC\u001b[91mG\u001b[0mGTGGACAGACTTCTGACTGAATC\u001b[91mT\u001b[0mAATGA\u001b[91mA\u001b[0mCGCTTACA\u001b[91mA\u001b[0mCTACATTTAAAGGA\u001b[91mA\u001b[0mAGAATGGCTGC\u001b[91mC\u001b[0mCTAGA\u001b[91mG\u001b[0mGA\u001b[91mA\u001b[0mAAGAATGTT\u001b[91mC\u001b[0mTAATTCAAGAATC\u001b[91mT\u001b[0mGAA\u001b[91mA\u001b[0mCTTTCAGAAAGAATCT\u001b[91mT\u001b[0mGAAGAATCTTTACATGATAAGGAAAGATTAGCAGA\u001b[91mG\u001b[0mGAAATTGAAAA\u001b[91mA\u001b[0m\u001b[91mT\u001b[0mT\u001b[91mA\u001b[0mA\u001b[91mA\u001b[0m\u001b[91mG\u001b[0mTC\u001b[91mC\u001b[0mGAACTTGA\u001b[91mT\u001b[0m\u001b[91mG\u001b[0mAA\u001b[91mG\u001b[0mT\u001b[91mA\u001b[0mAAA\u001b[91mC\u001b[0m\u001b[91mA\u001b[0m\u001b[91mA\u001b[0mA\u001b[91mA\u001b[0m\u001b[91mT\u001b[0m\u001b[91mG\u001b[0mC\u001b[91mA\u001b[0mGG\u001b[91mT\u001b[0mTC\u001b[91mA\u001b[0m\u001b[91mA\u001b[0m\u001b[91mA\u001b[0m\u001b[91mT\u001b[0m\u001b[91mC\u001b[0mTTGA\u001b[91mG\u001b[0mCC\u001b[91mT\u001b[0m\u001b[91mG\u001b[0mC\u001b[91mT\u001b[0mAT\u001b[91mC\u001b[0m\u001b[91mA\u001b[0m\u001b[91mG\u001b[0mA\u001b[91mT\u001b[0m\u001b[91mC\u001b[0m\u001b[91mT\u001b[0m\u001b[91mC\u001b[0m\u001b[91mA\u001b[0mT\u001b[91mT\u001b[0m\u001b[91mT\u001b[0m\u001b[91mG\u001b[0m\u001b[91mG\u001b[0m\u001b[91mA\u001b[0m\u001b[91mG\u001b[0m\u001b[91mA\u001b[0m\u001b[91mC\u001b[0m\u001b[91mA\u001b[0mAC\u001b[91mA\u001b[0m\u001b[91mG\u001b[0mCAG\u001b[91mA\u001b[0m\u001b[91mA\u001b[0m\u001b[91mT\u001b[0m\u001b[91mT\u001b[0m\u001b[91mA\u001b[0m\u001b[91mC\u001b[0m\u001b[91mG\u001b[0m\u001b[91mC\u001b[0m\u001b[91mA\u001b[0m\u001b[91mA\u001b[0m\u001b[91mA\u001b[0m\u001b[91mA\u001b[0mAT\u001b[91mG\u001b[0m\u001b[91mT\u001b[0m\u001b[91mA\u001b[0mG\u001b[91mA\u001b[0m\u001b[91mG\u001b[0mG\u001b[91mC\u001b[0m\u001b[91mT\u001b[0m\u001b[91mC\u001b[0m\u001b[91mT\u001b[0m\u001b[91mT\u001b[0m\u001b[91mT\u001b[0mT\u001b[91mG\u001b[0mG\u001b[91mA\u001b[0m\u001b[91mA\u001b[0m\u001b[91mA\u001b[0m\u001b[91mG\u001b[0mCA\u001b[91mC\u001b[0m\u001b[91mA\u001b[0m\u001b[91mG\u001b[0mA\u001b[91mC\u001b[0mT\u001b[91mG\u001b[0mT\u001b[91mT\u001b[0m\u001b[91mC\u001b[0m\u001b[91mC\u001b[0m\u001b[91mC\u001b[0mA\u001b[91mA\u001b[0m\u001b[91mT\u001b[0m\u001b[91mT\u001b[0m\u001b[91mT\u001b[0m\u001b[91mT\u001b[0m\u001b[91mT\u001b[0m\u001b[91mG\u001b[0m\u001b[91mG\u001b[0mC\u001b[91mA\u001b[0m\u001b[91mG\u001b[0mA\u001b[91mG\u001b[0m\u001b[91mA\u001b[0m\u001b[91mG\u001b[0m\u001b[91mC\u001b[0mA\u001b[91mA\u001b[0m\u001b[91mG\u001b[0m\u001b[91mG\u001b[0m\u001b[91mA\u001b[0m\u001b[91mG\u001b[0m\u001b[91mT\u001b[0m\u001b[91mC\u001b[0m\u001b[91mC\u001b[0m\u001b[91mG\u001b[0m\u001b[91mT\u001b[0m\u001b[91mT\u001b[0m\u001b[91mT\u001b[0mGG\u001b[91mG\u001b[0m\u001b[91mC\u001b[0m\u001b[91mT\u001b[0mG\u001b[91mA\u001b[0m\u001b[91mA\u001b[0m\u001b[91mT\u001b[0m\u001b[91mT\u001b[0m\u001b[91mA\u001b[0m\u001b[91mG\u001b[0m\u001b[91mC\u001b[0m\u001b[91mA\u001b[0m\u001b[91mA\u001b[0m\u001b[91mA\u001b[0mT\u001b[91mA\u001b[0mT\u001b[91mC\u001b[0mC\u001b[91mT\u001b[0m\u001b[91mG\u001b[0m\u001b[91mG\u001b[0mGA\u001b[91mA\u001b[0mA\u001b[91mG\u001b[0m\u001b[91mC\u001b[0mA\u001b[91mA\u001b[0m\u001b[91mC\u001b[0m\u001b[91mA\u001b[0mA\u001b[91mT\u001b[0m\u001b[91mT\u001b[0m\u001b[91mT\u001b[0mG\u001b[91mA\u001b[0m\u001b[91mC\u001b[0mA\u001b[91mG\u001b[0m\u001b[91mT\u001b[0m\u001b[91mA\u001b[0m\u001b[91mA\u001b[0m\u001b[91mA\u001b[0m\u001b[91mA\u001b[0m\u001b[91mA\u001b[0m\u001b[91mG\u001b[0m\u001b[91mC\u001b[0m\u001b[91mT\u001b[0m\u001b[91mT\u001b[0m\u001b[91mT\u001b[0m\u001b[91mC\u001b[0mT\u001b[91mA\u001b[0m\u001b[91mC\u001b[0mT\u001b[91mC\u001b[0m\u001b[91mT\u001b[0m\u001b[91mT\u001b[0m\u001b[91mG\u001b[0m\u001b[91mA\u001b[0mGA\u001b[91mT\u001b[0m\u001b[91mG\u001b[0m\u001b[91mG\u001b[0m\u001b[91mA\u001b[0m\u001b[91mG\u001b[0m\u001b[91mG\u001b[0m\u001b[91mT\u001b[0m\u001b[91mG\u001b[0m\u001b[91mT\u001b[0m\u001b[91mC\u001b[0m\u001b[91mT\u001b[0mCA\u001b[91mG\u001b[0mAT\u001b[91mG\u001b[0m\u001b[91mA\u001b[0m\u001b[91mA\u001b[0m\u001b[91mG\u001b[0m\u001b[91mT\u001b[0m\u001b[91mC\u001b[0m\u001b[91mA\u001b[0m\u001b[91mT\u001b[0m\u001b[91mG\u001b[0m\u001b[91mT\u001b[0m\u001b[91mT\u001b[0m\u001b[91mT\u001b[0m\u001b[91mG\u001b[0mAG\u001b[91mA\u001b[0m\u001b[91mA\u001b[0m\u001b[91mT\u001b[0m\u001b[91mG\u001b[0m\u001b[91mT\u001b[0m\u001b[91mT\u001b[0m\u001b[91mG\u001b[0m\u001b[91mG\u001b[0m\u001b[91mA\u001b[0mTGA\u001b[91mC\u001b[0mA\u001b[91mA\u001b[0m\u001b[91mA\u001b[0m\u001b[91mC\u001b[0m\u001b[91mT\u001b[0m\u001b[91mA\u001b[0mA\u001b[91mT\u001b[0mA\u001b[91mA\u001b[0mAAATG\u001b[91mA\u001b[0m\u001b[91mA\u001b[0m\u001b[91mA\u001b[0m\u001b[91mA\u001b[0mA\u001b[91mA\u001b[0m\u001b[91mG\u001b[0m\u001b[91mA\u001b[0m\u001b[91mA\u001b[0mG\u001b[91mT\u001b[0m\u001b[91mG\u001b[0m\u001b[91mA\u001b[0mA\u001b[91mA\u001b[0m\u001b[91mT\u001b[0m\u001b[91mG\u001b[0m\u001b[91mG\u001b[0m\u001b[91mT\u001b[0m\u001b[91mT\u001b[0m\u001b[91mA\u001b[0mA\u001b[91mA\u001b[0m\u001b[91mT\u001b[0mGAAA\u001b[91mT\u001b[0m\u001b[91mG\u001b[0m\u001b[91mT\u001b[0m\u001b[91mG\u001b[0mT\u001b[91mC\u001b[0m\u001b[91mA\u001b[0m\u001b[91mA\u001b[0mAG\u001b[91mA\u001b[0m\u001b[91mA\u001b[0m\u001b[91mA\u001b[0m\u001b[91mT\u001b[0m\u001b[91mT\u001b[0mT\u001b[91mA\u001b[0m\u001b[91mC\u001b[0mA\u001b[91mA\u001b[0m\u001b[91mA\u001b[0m\u001b[91mG\u001b[0mT\u001b[91mA\u001b[0m\u001b[91mA\u001b[0m\u001b[91mA\u001b[0m\u001b[91mC\u001b[0m\u001b[91mT\u001b[0m\u001b[91mG\u001b[0m\u001b[91mG\u001b[0m\u001b[91mA\u001b[0mA\u001b[91mG\u001b[0m\u001b[91mA\u001b[0m\u001b[91mA\u001b[0m\u001b[91mA\u001b[0m\u001b[91mA\u001b[0m\u001b[91mG\u001b[0m\u001b[91mA\u001b[0m\u001b[91mT\u001b[0mT\u001b[91mC\u001b[0m\u001b[91mA\u001b[0m\u001b[91mA\u001b[0m\u001b[91mA\u001b[0mA\u001b[91mA\u001b[0m\u001b[91mC\u001b[0m\u001b[91mT\u001b[0m\u001b[91mA\u001b[0m\u001b[91mG\u001b[0mA\u001b[91mA\u001b[0mA\u001b[91mA\u001b[0mT\u001b[91mG\u001b[0m\u001b[91mA\u001b[0mA\u001b[91mC\u001b[0m\u001b[91mT\u001b[0m\u001b[91mG\u001b[0m\u001b[91mG\u001b[0m\u001b[91mA\u001b[0mG\u001b[91mT\u001b[0mT\u001b[91mA\u001b[0m\u001b[91mA\u001b[0m\u001b[91mA\u001b[0m\u001b[91mC\u001b[0m\u001b[91mG\u001b[0m\u001b[91mT\u001b[0m\u001b[91mA\u001b[0m\u001b[91mC\u001b[0mA\u001b[91mG\u001b[0m\u001b[91mA\u001b[0mA\u001b[91mG\u001b[0m\u001b[91mA\u001b[0m\u001b[91mG\u001b[0m\u001b[91mC\u001b[0m\u001b[91mC\u001b[0m\u001b[91mT\u001b[0m\u001b[91mA\u001b[0m\u001b[91mA\u001b[0m\u001b[91mA\u001b[0m\u001b[91mT\u001b[0m\u001b[91mG\u001b[0m\u001b[91mG\u001b[0m\u001b[91mG\u001b[0m\u001b[91mC\u001b[0m\u001b[91mT\u001b[0m\u001b[91mT\u001b[0mAA\u001b[91mT\u001b[0mGA\u001b[91mT\u001b[0m\u001b[91mC\u001b[0mT\u001b[91mA\u001b[0m\u001b[91mC\u001b[0m\u001b[91mA\u001b[0mG\u001b[91mA\u001b[0m\u001b[91mC\u001b[0mAA\u001b[91mG\u001b[0mT\u001b[91mA\u001b[0m\u001b[91mT\u001b[0m\u001b[91mT\u001b[0m\u001b[91mA\u001b[0m\u001b[91mT\u001b[0m\u001b[91mT\u001b[0mGAAA\u001b[91mG\u001b[0mA\u001b[91mA\u001b[0m\u001b[91mG\u001b[0m\u001b[91mG\u001b[0m\u001b[91mG\u001b[0m\u001b[91mA\u001b[0m\u001b[91mA\u001b[0mA\u001b[91mA\u001b[0m\u001b[91mA\u001b[0mGA\u001b[91mA\u001b[0m\u001b[91mA\u001b[0m\u001b[91mG\u001b[0mA\u001b[91mA\u001b[0m\u001b[91mA\u001b[0m\u001b[91mC\u001b[0m\u001b[91mA\u001b[0m\u001b[91mT\u001b[0m\u001b[91mA\u001b[0m\u001b[91mA\u001b[0mA\u001b[91mT\u001b[0mGAA\u001b[91mG\u001b[0m\u001b[91mA\u001b[0m\u001b[91mA\u001b[0m\u001b[91mA\u001b[0m\u001b[91mG\u001b[0mG\u001b[91mG\u001b[0mA\u001b[91mA\u001b[0mA\u001b[91mA\u001b[0mA\u001b[91mC\u001b[0m\u001b[91mA\u001b[0m\u001b[91mA\u001b[0m\u001b[91mA\u001b[0m\u001b[91mA\u001b[0m\u001b[91mA\u001b[0m\u001b[91mT\u001b[0m\u001b[91mC\u001b[0mT\u001b[91mA\u001b[0mT\u001b[91mT\u001b[0m\u001b[91mC\u001b[0m\u001b[91mA\u001b[0m\u001b[91mT\u001b[0m\u001b[91mG\u001b[0m\u001b[91mA\u001b[0m\u001b[91mT\u001b[0m\u001b[91mC\u001b[0mA\u001b[91mT\u001b[0m\u001b[91mA\u001b[0m\u001b[91mT\u001b[0m\u001b[91mT\u001b[0m\u001b[91mA\u001b[0mT\u001b[91mT\u001b[0mAATTT\u001b[91mT\u001b[0m\u001b[91mA\u001b[0m\u001b[91mG\u001b[0m\u001b[91mG\u001b[0m\u001b[91mC\u001b[0m\u001b[91mA\u001b[0mA\u001b[91mC\u001b[0mT\u001b[91mT\u001b[0mCA\u001b[91mA\u001b[0mC\u001b[91mT\u001b[0m\u001b[91mT\u001b[0m\u001b[91mC\u001b[0m\u001b[91mA\u001b[0m\u001b[91mA\u001b[0m\u001b[91mC\u001b[0m\u001b[91mA\u001b[0m\u001b[91mG\u001b[0mT\u001b[91mT\u001b[0m\u001b[91mT\u001b[0m\u001b[91mG\u001b[0m\u001b[91mC\u001b[0m\u001b[91mA\u001b[0mA\u001b[91mA\u001b[0m\u001b[91mA\u001b[0m\u001b[91mC\u001b[0m\u001b[91mA\u001b[0m\u001b[91mA\u001b[0m\u001b[91mG\u001b[0m\u001b[91mG\u001b[0mC\u001b[91mC\u001b[0m\u001b[91mC\u001b[0mT\u001b[91mC\u001b[0m\u001b[91mA\u001b[0m\u001b[91mG\u001b[0m\u001b[91mT\u001b[0mC\u001b[91mA\u001b[0m\u001b[91mG\u001b[0m\u001b[91mA\u001b[0m\u001b[91mA\u001b[0m\u001b[91mA\u001b[0m\u001b[91mA\u001b[0mA\u001b[91mA\u001b[0m\u001b[91mG\u001b[0m\u001b[91mC\u001b[0m\u001b[91mA\u001b[0m\u001b[91mG\u001b[0m\u001b[91mA\u001b[0m\u001b[91mG\u001b[0m\u001b[91mA\u001b[0m\u001b[91mA\u001b[0m\u001b[91mG\u001b[0m\u001b[91mA\u001b[0m\u001b[91mT\u001b[0m\u001b[91mG\u001b[0m\u001b[91mT\u001b[0m\u001b[91mA\u001b[0m\u001b[91mG\u001b[0m\u001b[91mA\u001b[0m\u001b[91mA\u001b[0m\u001b[91mG\u001b[0m\u001b[91mA\u001b[0m\u001b[91mC\u001b[0mA\u001b[91mA\u001b[0m\u001b[91mA\u001b[0m\u001b[91mA\u001b[0m\u001b[91mA\u001b[0mA\u001b[91mG\u001b[0m\u001b[91mC\u001b[0m\u001b[91mT\u001b[0m\u001b[91mA\u001b[0m\u001b[91mA\u001b[0mA\u001b[91mT\u001b[0m\u001b[91mA\u001b[0m\u001b[91mT\u001b[0m\u001b[91mG\u001b[0m\u001b[91mA\u001b[0mA\u001b[91mC\u001b[0mAGCT\u001b[91mG\u001b[0m\u001b[91mG\u001b[0m\u001b[91mA\u001b[0m\u001b[91mG\u001b[0m\u001b[91mA\u001b[0m\u001b[91mG\u001b[0m\u001b[91mG\u001b[0m\u001b[91mG\u001b[0m\u001b[91mA\u001b[0m\u001b[91mA\u001b[0m\u001b[91mC\u001b[0m\u001b[91mT\u001b[0mTC\u001b[91mA\u001b[0mT\u001b[91mT\u001b[0m\u001b[91mT\u001b[0m\u001b[91mT\u001b[0m\u001b[91mG\u001b[0m\u001b[91mT\u001b[0mG\u001b[91mA\u001b[0mAA\u001b[91mG\u001b[0m\u001b[91mA\u001b[0m\u001b[91mT\u001b[0m\u001b[91mA\u001b[0mA\u001b[91mA\u001b[0mC\u001b[91mT\u001b[0mGATG\u001b[91mT\u001b[0m\u001b[91mT\u001b[0mA\u001b[91mT\u001b[0m\u001b[91mC\u001b[0m\u001b[91mT\u001b[0mA\u001b[91mC\u001b[0m\u001b[91mA\u001b[0m\u001b[91mT\u001b[0mC\u001b[91mT\u001b[0mC\u001b[91mC\u001b[0m\u001b[91mA\u001b[0mC\u001b[91mG\u001b[0mAAG\u001b[91mA\u001b[0m\u001b[91mA\u001b[0mA\u001b[91mA\u001b[0m\u001b[91mA\u001b[0m\u001b[91mA\u001b[0m\u001b[91mT\u001b[0m\u001b[91mG\u001b[0m\u001b[91mA\u001b[0m\u001b[91mA\u001b[0m\u001b[91mT\u001b[0m\u001b[91mC\u001b[0m\u001b[91mT\u001b[0m\u001b[91mT\u001b[0m\u001b[91mC\u001b[0m\u001b[91mA\u001b[0m\u001b[91mA\u001b[0m\u001b[91mA\u001b[0m\u001b[91mA\u001b[0m\u001b[91mG\u001b[0mG\u001b[91mC\u001b[0mA\u001b[91mG\u001b[0m\u001b[91mC\u001b[0m\u001b[91mG\u001b[0m\u001b[91mA\u001b[0mTG\u001b[91mG\u001b[0mA\u001b[91mA\u001b[0m\u001b[91mA\u001b[0m\u001b[91mA\u001b[0m\u001b[91mA\u001b[0m\u001b[91mG\u001b[0m\u001b[91mA\u001b[0m\u001b[91mC\u001b[0mA\u001b[91mG\u001b[0m\u001b[91mA\u001b[0mAA\u001b[91mA\u001b[0m\u001b[91mC\u001b[0m\u001b[91mA\u001b[0m\u001b[91mT\u001b[0m\u001b[91mT\u001b[0m\u001b[91mG\u001b[0m\u001b[91mG\u001b[0m\u001b[91mA\u001b[0mGGA\u001b[91mA\u001b[0mGA\u001b[91mA\u001b[0m\u001b[91mT\u001b[0m\u001b[91mC\u001b[0mA\u001b[91mT\u001b[0mC\u001b[91mT\u001b[0mA\u001b[91mA\u001b[0mA\u001b[91mC\u001b[0m\u001b[91mA\u001b[0m\u001b[91mG\u001b[0mAA\u001b[91mT\u001b[0m\u001b[91mG\u001b[0m\u001b[91mA\u001b[0m\u001b[91mA\u001b[0m\u001b[91mT\u001b[0m\u001b[91mT\u001b[0m\u001b[91mG\u001b[0m\u001b[91mT\u001b[0mC\u001b[91mC\u001b[0m\u001b[91mA\u001b[0m\u001b[91mG\u001b[0mT\u001b[91mG\u001b[0m\u001b[91mA\u001b[0m\u001b[91mA\u001b[0m\u001b[91mA\u001b[0m\u001b[91mA\u001b[0m\u001b[91mT\u001b[0m\u001b[91mG\u001b[0m\u001b[91mA\u001b[0m\u001b[91mC\u001b[0mA\u001b[91mG\u001b[0m\u001b[91mA\u001b[0mC\u001b[91mT\u001b[0mT\u001b[91mC\u001b[0m\u001b[91mA\u001b[0m\u001b[91mG\u001b[0m\u001b[91mA\u001b[0m\u001b[91mG\u001b[0m\u001b[91mA\u001b[0mA\u001b[91mA\u001b[0m\u001b[91mA\u001b[0m\u001b[91mC\u001b[0m\u001b[91mT\u001b[0m\u001b[91mA\u001b[0m\u001b[91mG\u001b[0m\u001b[91mA\u001b[0mGA\u001b[91mG\u001b[0mT\u001b[91mG\u001b[0m\u001b[91mT\u001b[0m\u001b[91mT\u001b[0m\u001b[91mG\u001b[0m\u001b[91mA\u001b[0m\u001b[91mG\u001b[0m\u001b[91mA\u001b[0m\u001b[91mA\u001b[0mTC\u001b[91mG\u001b[0mC\u001b[91mA\u001b[0m\u001b[91mT\u001b[0m\u001b[91mA\u001b[0m\u001b[91mA\u001b[0m\u001b[91mA\u001b[0m\u001b[91mA\u001b[0m\u001b[91mC\u001b[0m\u001b[91mG\u001b[0m\u001b[91mT\u001b[0m\u001b[91mG\u001b[0m\u001b[91mT\u001b[0m\u001b[91mG\u001b[0m\u001b[91mG\u001b[0mA\u001b[91mA\u001b[0m\u001b[91mA\u001b[0m\u001b[91mT\u001b[0m\u001b[91mG\u001b[0m\u001b[91mT\u001b[0m\u001b[91mT\u001b[0m\u001b[91mG\u001b[0mC\u001b[91mT\u001b[0m\u001b[91mG\u001b[0m\u001b[91mG\u001b[0m\u001b[91mC\u001b[0mT\u001b[91mT\u001b[0m\u001b[91mC\u001b[0m\u001b[91mA\u001b[0m\u001b[91mA\u001b[0m\u001b[91mA\u001b[0mG\u001b[91mG\u001b[0mC\u001b[91mC\u001b[0m\u001b[91mC\u001b[0m\u001b[91mA\u001b[0m\u001b[91mA\u001b[0m\u001b[91mG\u001b[0m\u001b[91mA\u001b[0m\u001b[91mA\u001b[0m\u001b[91mA\u001b[0m\u001b[91mA\u001b[0m\u001b[91mG\u001b[0mGA\u001b[91mA\u001b[0m\u001b[91mA\u001b[0m\u001b[91mG\u001b[0mAG\u001b[91mG\u001b[0m\u001b[91mT\u001b[0m\u001b[91mT\u001b[0m\u001b[91mT\u001b[0m\u001b[91mG\u001b[0m\u001b[91mA\u001b[0mT\u001b[91mA\u001b[0m\u001b[91mT\u001b[0m\u001b[91mT\u001b[0m\u001b[91mT\u001b[0m\u001b[91mG\u001b[0m\u001b[91mA\u001b[0m\u001b[91mA\u001b[0mG\u001b[91mT\u001b[0m\u001b[91mA\u001b[0mAG\u001b[91mG\u001b[0m\u001b[91mT\u001b[0m\u001b[91mA\u001b[0m\u001b[91mT\u001b[0m\u001b[91mC\u001b[0mA\u001b[91mA\u001b[0mA\u001b[91mA\u001b[0m\u001b[91mT\u001b[0m\u001b[91mG\u001b[0m\u001b[91mA\u001b[0m\u001b[91mG\u001b[0m\u001b[91mG\u001b[0mA\u001b[91mT\u001b[0m\u001b[91mA\u001b[0mA\u001b[91mG\u001b[0m\u001b[91mA\u001b[0m\u001b[91mA\u001b[0m\u001b[91mA\u001b[0mC\u001b[91mA\u001b[0m\u001b[91mA\u001b[0m\u001b[91mA\u001b[0mA\u001b[91mT\u001b[0m\u001b[91mG\u001b[0mAA\u001b[91mA\u001b[0m\u001b[91mT\u001b[0m\u001b[91mT\u001b[0m\u001b[91mA\u001b[0m\u001b[91mA\u001b[0m\u001b[91mG\u001b[0mA\u001b[91mG\u001b[0m\u001b[91mA\u001b[0m\u001b[91mG\u001b[0mA\u001b[91mA\u001b[0m\u001b[91mC\u001b[0m\u001b[91mT\u001b[0mG\u001b[91mA\u001b[0m\u001b[91mA\u001b[0m\u001b[91mG\u001b[0mA\u001b[91mA\u001b[0m\u001b[91mG\u001b[0m\u001b[91mT\u001b[0m\u001b[91mC\u001b[0m\u001b[91mT\u001b[0m\u001b[91mC\u001b[0m\u001b[91mA\u001b[0mT\u001b[91mA\u001b[0m\u001b[91mG\u001b[0m\u001b[91mT\u001b[0m\u001b[91mG\u001b[0m\u001b[91mA\u001b[0mA\u001b[91mC\u001b[0m\u001b[91mT\u001b[0m\u001b[91mG\u001b[0mC\u001b[91mT\u001b[0m\u001b[91mG\u001b[0mC\u001b[91mA\u001b[0mG\u001b[91mG\u001b[0m\u001b[91mA\u001b[0m\u001b[91mG\u001b[0m\u001b[91mA\u001b[0m\u001b[91mA\u001b[0m\u001b[91mA\u001b[0m\u001b[91mG\u001b[0mAA\u001b[91mC\u001b[0mAA\u001b[91mA\u001b[0m\u001b[91mT\u001b[0mAA\u001b[91mT\u001b[0m\u001b[91mG\u001b[0m\u001b[91mC\u001b[0m\u001b[91mA\u001b[0m\u001b[91mG\u001b[0m\u001b[91mA\u001b[0m\u001b[91mA\u001b[0mA\u001b[91mA\u001b[0m\u001b[91mA\u001b[0mTG\u001b[91mC\u001b[0m\u001b[91mA\u001b[0mC\u001b[91mT\u001b[0m\u001b[91mT\u001b[0m\u001b[91mA\u001b[0m\u001b[91mA\u001b[0m\u001b[91mA\u001b[0m\u001b[91mG\u001b[0m\u001b[91mA\u001b[0mA\u001b[91mA\u001b[0m\u001b[91mA\u001b[0m\u001b[91mA\u001b[0m\u001b[91mG\u001b[0mT\u001b[91mA\u001b[0mA\u001b[91mA\u001b[0m\u001b[91mT\u001b[0m\u001b[91mA\u001b[0mA\u001b[91mA\u001b[0m\u001b[91mT\u001b[0m\u001b[91mT\u001b[0m\u001b[91mA\u001b[0m\u001b[91mC\u001b[0mA\u001b[91mA\u001b[0m\u001b[91mC\u001b[0m\u001b[91mA\u001b[0m\u001b[91mA\u001b[0mG\u001b[91mA\u001b[0m\u001b[91mA\u001b[0m\u001b[91mA\u001b[0mC\u001b[91mG\u001b[0m\u001b[91mA\u001b[0mAGGA\u001b[91mT\u001b[0m\u001b[91mC\u001b[0m\u001b[91mA\u001b[0m\u001b[91mG\u001b[0m\u001b[91mA\u001b[0m\u001b[91mA\u001b[0m\u001b[91mT\u001b[0m\u001b[91mA\u001b[0m\u001b[91mA\u001b[0mG\u001b[91mA\u001b[0mT\u001b[91mC\u001b[0m\u001b[91mA\u001b[0m\u001b[91mA\u001b[0m\u001b[91mT\u001b[0m\u001b[91mG\u001b[0m\u001b[91mT\u001b[0m\u001b[91mT\u001b[0m\u001b[91mG\u001b[0m\u001b[91mA\u001b[0m\u001b[91mA\u001b[0m\u001b[91mC\u001b[0mG\u001b[91mC\u001b[0m\u001b[91mT\u001b[0m\u001b[91mG\u001b[0mTC\u001b[91mT\u001b[0m\u001b[91mG\u001b[0m\u001b[91mC\u001b[0m\u001b[91mA\u001b[0m\u001b[91mA\u001b[0mG\u001b[91mT\u001b[0mG\u001b[91mC\u001b[0m\u001b[91mT\u001b[0m\u001b[91mA\u001b[0m\u001b[91mA\u001b[0mA\u001b[91mC\u001b[0mA\u001b[91mC\u001b[0m\u001b[91mT\u001b[0m\u001b[91mG\u001b[0m\u001b[91mA\u001b[0m\u001b[91mG\u001b[0mCT\u001b[91mA\u001b[0mA\u001b[91mC\u001b[0m\u001b[91mT\u001b[0m\u001b[91mG\u001b[0mAAAA\u001b[91mA\u001b[0m\u001b[91mA\u001b[0mA\u001b[91mA\u001b[0m\u001b[91mA\u001b[0mA\u001b[91mG\u001b[0m\u001b[91mG\u001b[0m\u001b[91mA\u001b[0m\u001b[91mA\u001b[0m\u001b[91mG\u001b[0m\u001b[91mA\u001b[0m\u001b[91mG\u001b[0mGAA\u001b[91mA\u001b[0mA\u001b[91mG\u001b[0m\u001b[91mT\u001b[0m\u001b[91mA\u001b[0mT\u001b[91mG\u001b[0m\u001b[91mC\u001b[0m\u001b[91mT\u001b[0m\u001b[91mC\u001b[0m\u001b[91mT\u001b[0m\u001b[91mT\u001b[0m\u001b[91mG\u001b[0m\u001b[91mC\u001b[0m\u001b[91mT\u001b[0m\u001b[91mT\u001b[0m\u001b[91mT\u001b[0mAT\u001b[91mA\u001b[0m\u001b[91mT\u001b[0m\u001b[91mA\u001b[0m\u001b[91mA\u001b[0mT\u001b[91mG\u001b[0m\u001b[91mA\u001b[0m\u001b[91mG\u001b[0m\u001b[91mC\u001b[0m\u001b[91mA\u001b[0mT\u001b[91mG\u001b[0mA\u001b[91mA\u001b[0m\u001b[91mA\u001b[0mGG\u001b[91mC\u001b[0m\u001b[91mT\u001b[0mT\u001b[91mC\u001b[0mG\u001b[91mA\u001b[0mC\u001b[91mA\u001b[0m\u001b[91mA\u001b[0m\u001b[91mG\u001b[0m\u001b[91mA\u001b[0m\u001b[91mA\u001b[0m\u001b[91mA\u001b[0m\u001b[91mA\u001b[0m\u001b[91mA\u001b[0mG\u001b[91mA\u001b[0mTG\u001b[91mA\u001b[0mA\u001b[91mA\u001b[0m\u001b[91mA\u001b[0m\u001b[91mA\u001b[0m\u001b[91mG\u001b[0m\u001b[91mA\u001b[0mG\u001b[91mA\u001b[0mAG\u001b[91mA\u001b[0m\u001b[91mA\u001b[0m\u001b[91mG\u001b[0m\u001b[91mG\u001b[0m\u001b[91mA\u001b[0mG\u001b[91mC\u001b[0m\u001b[91mA\u001b[0m\u001b[91mA\u001b[0mG\u001b[91mA\u001b[0mA\u001b[91mG\u001b[0m\u001b[91mA\u001b[0mG\u001b[91mG\u001b[0m\u001b[91mA\u001b[0m\u001b[91mA\u001b[0mG\u001b[91mA\u001b[0mT\u001b[91mA\u001b[0m\u001b[91mA\u001b[0m\u001b[91mC\u001b[0m\u001b[91mC\u001b[0m\u001b[91mT\u001b[0m\u001b[91mT\u001b[0m\u001b[91mA\u001b[0m\u001b[91mA\u001b[0m\u001b[91mG\u001b[0m\u001b[91mC\u001b[0m\u001b[91mA\u001b[0mA\u001b[91mA\u001b[0m\u001b[91mA\u001b[0m\u001b[91mT\u001b[0m\u001b[91mG\u001b[0m\u001b[91mT\u001b[0m\u001b[91mT\u001b[0m\u001b[91mA\u001b[0m\u001b[91mT\u001b[0m\u001b[91mT\u001b[0m\u001b[91mC\u001b[0m\u001b[91mA\u001b[0m\u001b[91mA\u001b[0m\u001b[91mC\u001b[0mA\u001b[91mA\u001b[0m\u001b[91mA\u001b[0m\u001b[91mG\u001b[0mG\u001b[91mG\u001b[0mA\u001b[91mT\u001b[0m\u001b[91mG\u001b[0m\u001b[91mC\u001b[0m\u001b[91mC\u001b[0m\u001b[91mT\u001b[0m\u001b[91mT\u001b[0mAG\u001b[91mA\u001b[0m\u001b[91mA\u001b[0m\u001b[91mC\u001b[0mT\u001b[91mG\u001b[0m\u001b[91mG\u001b[0m\u001b[91mG\u001b[0m\u001b[91mA\u001b[0m\u001b[91mG\u001b[0m\u001b[91mA\u001b[0m\u001b[91mG\u001b[0m\u001b[91mA\u001b[0m\u001b[91mT\u001b[0mT\u001b[91mG\u001b[0mT\u001b[91mT\u001b[0m\u001b[91mA\u001b[0m\u001b[91mA\u001b[0m\u001b[91mG\u001b[0m\u001b[91mC\u001b[0m\u001b[91mC\u001b[0mC\u001b[91mT\u001b[0mC\u001b[91mA\u001b[0m\u001b[91mA\u001b[0m\u001b[91mG\u001b[0m\u001b[91mA\u001b[0mA\u001b[91mC\u001b[0m\u001b[91mA\u001b[0m\u001b[91mA\u001b[0m\u001b[91mG\u001b[0m\u001b[91mA\u001b[0m\u001b[91mC\u001b[0m\u001b[91mA\u001b[0m\u001b[91mG\u001b[0m\u001b[91mC\u001b[0mA\u001b[91mG\u001b[0m\u001b[91mC\u001b[0m\u001b[91mA\u001b[0m\u001b[91mA\u001b[0m\u001b[91mA\u001b[0m\u001b[91mT\u001b[0mAA\u001b[91mG\u001b[0m\u001b[91mT\u001b[0m\u001b[91mT\u001b[0mG\u001b[91mG\u001b[0mA\u001b[91mC\u001b[0m\u001b[91mA\u001b[0m\u001b[91mT\u001b[0m\u001b[91mT\u001b[0m\u001b[91mA\u001b[0m\u001b[91mG\u001b[0mT\u001b[91mC\u001b[0mCA\u001b[91mA\u001b[0m\u001b[91mG\u001b[0m\u001b[91mA\u001b[0m\u001b[91mT\u001b[0mT\u001b[91mC\u001b[0mA\u001b[91mT\u001b[0m\u001b[91mC\u001b[0m\u001b[91mC\u001b[0m\u001b[91mT\u001b[0mT\u001b[91mA\u001b[0mC\u001b[91mC\u001b[0m\u001b[91mT\u001b[0m\u001b[91mT\u001b[0m\u001b[91mC\u001b[0m\u001b[91mT\u001b[0mGC\u001b[91mC\u001b[0m\u001b[91mT\u001b[0m\u001b[91mA\u001b[0mCCA\u001b[91mA\u001b[0m\u001b[91mA\u001b[0mAG\u001b[91mC\u001b[0m\u001b[91mA\u001b[0m\u001b[91mT\u001b[0m\u001b[91mT\u001b[0mT\u001b[91mA\u001b[0m\u001b[91mA\u001b[0mC\u001b[91mA\u001b[0mC\u001b[91mA\u001b[0m\u001b[91mT\u001b[0m\u001b[91mG\u001b[0m\u001b[91mG\u001b[0m\u001b[91mC\u001b[0mA\u001b[91mT\u001b[0mT\u001b[91mG\u001b[0mC\u001b[91mA\u001b[0m\u001b[91mA\u001b[0m\u001b[91mA\u001b[0m\u001b[91mG\u001b[0m\u001b[91mC\u001b[0m\u001b[91mA\u001b[0m\u001b[91mG\u001b[0m\u001b[91mG\u001b[0m\u001b[91mA\u001b[0m\u001b[91mG\u001b[0m\u001b[91mA\u001b[0m\u001b[91mT\u001b[0m\u001b[91mT\u001b[0m\u001b[91mC\u001b[0m\u001b[91mT\u001b[0m\u001b[91mG\u001b[0m\u001b[91mA\u001b[0m\u001b[91mG\u001b[0m\u001b[91mA\u001b[0m\u001b[91mA\u001b[0m\u001b[91mT\u001b[0m\u001b[91mC\u001b[0m\u001b[91mC\u001b[0m\u001b[91mT\u001b[0m\u001b[91mG\u001b[0m\u001b[91mG\u001b[0m\u001b[91mA\u001b[0m\u001b[91mA\u001b[0m\u001b[91mA\u001b[0m\u001b[91mA\u001b[0m\u001b[91mG\u001b[0m\u001b[91mA\u001b[0m\u001b[91mT\u001b[0m\u001b[91mT\u001b[0m\u001b[91mC\u001b[0m\u001b[91mG\u001b[0m\u001b[91mA\u001b[0mG\u001b[91mA\u001b[0m\u001b[91mA\u001b[0m\u001b[91mG\u001b[0m\u001b[91mA\u001b[0m\u001b[91mA\u001b[0mG\u001b[91mA\u001b[0m\u001b[91mT\u001b[0m\u001b[91mG\u001b[0m\u001b[91mA\u001b[0m\u001b[91mA\u001b[0m\u001b[91mA\u001b[0m\u001b[91mG\u001b[0mT\u001b[91mA\u001b[0m\u001b[91mT\u001b[0mA\u001b[91mA\u001b[0mA\u001b[91mC\u001b[0m\u001b[91mT\u001b[0m\u001b[91mA\u001b[0m\u001b[91mT\u001b[0m\u001b[91mT\u001b[0m\u001b[91mC\u001b[0m\u001b[91mT\u001b[0m\u001b[91mG\u001b[0mA\u001b[91mG\u001b[0m\u001b[91mA\u001b[0mT\u001b[91mT\u001b[0m\u001b[91mC\u001b[0m\u001b[91mT\u001b[0m\u001b[91mG\u001b[0m\u001b[91mA\u001b[0m\u001b[91mG\u001b[0m\u001b[91mA\u001b[0m\u001b[91mT\u001b[0mC\u001b[91mT\u001b[0m\u001b[91mT\u001b[0m\u001b[91mA\u001b[0m\u001b[91mT\u001b[0m\u001b[91mC\u001b[0m\u001b[91mC\u001b[0mAA\u001b[91mA\u001b[0m\u001b[91mT\u001b[0m\u001b[91mG\u001b[0mAA\u001b[91mT\u001b[0m\u001b[91mC\u001b[0mAT\u001b[91mG\u001b[0mT\u001b[91mA\u001b[0m\u001b[91mG\u001b[0m\u001b[91mA\u001b[0mG\u001b[91mC\u001b[0mA\u001b[91mA\u001b[0m\u001b[91mC\u001b[0mA\u001b[91mG\u001b[0m\u001b[91mC\u001b[0m\u001b[91mT\u001b[0m\u001b[91mC\u001b[0m\u001b[91mA\u001b[0mGG\u001b[91mA\u001b[0m\u001b[91mA\u001b[0mC\u001b[91mT\u001b[0m\u001b[91mA\u001b[0mA\u001b[91mA\u001b[0mT\u001b[91mG\u001b[0m\u001b[91mA\u001b[0m\u001b[91mG\u001b[0mG\u001b[91mT\u001b[0m\u001b[91mA\u001b[0m\u001b[91mA\u001b[0mA\u001b[91mA\u001b[0m\u001b[91mA\u001b[0m\u001b[91mA\u001b[0m\u001b[91mT\u001b[0m\u001b[91mC\u001b[0mA\u001b[91mG\u001b[0m\u001b[91mC\u001b[0m\u001b[91mA\u001b[0m\u001b[91mA\u001b[0mA\u001b[91mT\u001b[0mC\u001b[91mA\u001b[0m\u001b[91mC\u001b[0m\u001b[91mA\u001b[0m\u001b[91mT\u001b[0m\u001b[91mT\u001b[0mG\u001b[91mC\u001b[0m\u001b[91mA\u001b[0m\u001b[91mA\u001b[0m\u001b[91mG\u001b[0m\u001b[91mA\u001b[0m\u001b[91mA\u001b[0mG\u001b[91mC\u001b[0m\u001b[91mT\u001b[0m\u001b[91mG\u001b[0m\u001b[91mT\u001b[0m\u001b[91mA\u001b[0m\u001b[91mA\u001b[0mAAT\u001b[91mT\u001b[0m\u001b[91mA\u001b[0mC\u001b[91mA\u001b[0m\u001b[91mG\u001b[0m\u001b[91mG\u001b[0m\u001b[91mT\u001b[0m\u001b[91mA\u001b[0mA\u001b[91mT\u001b[0m\u001b[91mA\u001b[0m\u001b[91mG\u001b[0m\u001b[91mA\u001b[0m\u001b[91mA\u001b[0mG\u001b[91mA\u001b[0mG\u001b[91mG\u001b[0m\u001b[91mA\u001b[0mA\u001b[91mG\u001b[0m\u001b[91mA\u001b[0m\u001b[91mA\u001b[0mCAA\u001b[91mG\u001b[0m\u001b[91mC\u001b[0m\u001b[91mT\u001b[0m\u001b[91mT\u001b[0mG\u001b[91mG\u001b[0mA\u001b[91mA\u001b[0mT\u001b[91mG\u001b[0mA\u001b[91mA\u001b[0m\u001b[91mG\u001b[0m\u001b[91mC\u001b[0m\u001b[91mA\u001b[0mA\u001b[91mA\u001b[0mGGAA\u001b[91mA\u001b[0m\u001b[91mC\u001b[0m\u001b[91mT\u001b[0m\u001b[91mG\u001b[0m\u001b[91mA\u001b[0mGG\u001b[91mA\u001b[0mAGAT\u001b[91mA\u001b[0mCA\u001b[91mC\u001b[0m\u001b[91mT\u001b[0m\u001b[91mT\u001b[0mAT\u001b[91mC\u001b[0m\u001b[91mA\u001b[0m\u001b[91mA\u001b[0m\u001b[91mC\u001b[0m\u001b[91mA\u001b[0mAT\u001b[91mA\u001b[0m\u001b[91mG\u001b[0m\u001b[91mT\u001b[0m\u001b[91mT\u001b[0m\u001b[91mC\u001b[0m\u001b[91mT\u001b[0m\u001b[91mT\u001b[0m\u001b[91mT\u001b[0m\u001b[91mT\u001b[0m\u001b[91mC\u001b[0m\u001b[91mT\u001b[0mA\u001b[91mG\u001b[0m\u001b[91mC\u001b[0m\u001b[91mT\u001b[0mG\u001b[91mG\u001b[0m\u001b[91mG\u001b[0mCTC\u001b[91mA\u001b[0mGTG\u001b[91mA\u001b[0m\u001b[91mA\u001b[0m\u001b[91mG\u001b[0mAT\u001b[91mG\u001b[0m\u001b[91mA\u001b[0m\u001b[91mT\u001b[0m\u001b[91mG\u001b[0mAA\u001b[91mG\u001b[0m\u001b[91mA\u001b[0m\u001b[91mT\u001b[0mG\u001b[91mA\u001b[0m\u001b[91mT\u001b[0m\u001b[91mC\u001b[0mA\u001b[91mC\u001b[0m\u001b[91mG\u001b[0m\u001b[91mA\u001b[0m\u001b[91mC\u001b[0m\u001b[91mA\u001b[0mT\u001b[91mT\u001b[0mC\u001b[91mT\u001b[0m\u001b[91mC\u001b[0m\u001b[91mA\u001b[0m\u001b[91mC\u001b[0mAA\u001b[91mT\u001b[0m\u001b[91mC\u001b[0m\u001b[91mC\u001b[0m\u001b[91mA\u001b[0m\u001b[91mA\u001b[0m\u001b[91mG\u001b[0m\u001b[91mA\u001b[0m\u001b[91mG\u001b[0m\u001b[91mA\u001b[0mA\u001b[91mT\u001b[0m\u001b[91mG\u001b[0mA\u001b[91mA\u001b[0m\u001b[91mA\u001b[0m\u001b[91mA\u001b[0m\u001b[91mG\u001b[0mA\u001b[91mA\u001b[0mT\u001b[91mT\u001b[0m\u001b[91mC\u001b[0m\u001b[91mA\u001b[0m\u001b[91mC\u001b[0m\u001b[91mC\u001b[0m\u001b[91mA\u001b[0m\u001b[91mC\u001b[0m\u001b[91mC\u001b[0mAA\u001b[91mT\u001b[0m\u001b[91mC\u001b[0mAG\u001b[91mT\u001b[0mT\u001b[91mC\u001b[0m\u001b[91mT\u001b[0m\u001b[91mT\u001b[0m\u001b[91mT\u001b[0m\u001b[91mG\u001b[0m\u001b[91mC\u001b[0mAT\u001b[91mC\u001b[0m\u001b[91mT\u001b[0m\u001b[91mA\u001b[0m\u001b[91mG\u001b[0m\u001b[91mC\u001b[0mAAA\u001b[91mG\u001b[0mGA\u001b[91mG\u001b[0mC\u001b[91mA\u001b[0mA\u001b[91mC\u001b[0m\u001b[91mC\u001b[0m\u001b[91mT\u001b[0m\u001b[91mC\u001b[0m\u001b[91mA\u001b[0mA\u001b[91mG\u001b[0m\u001b[91mC\u001b[0m\u001b[91mC\u001b[0m\u001b[91mA\u001b[0m\u001b[91mT\u001b[0m\u001b[91mA\u001b[0m\u001b[91mT\u001b[0m\u001b[91mC\u001b[0mA\u001b[91mA\u001b[0m\u001b[91mG\u001b[0mAA\u001b[91mA\u001b[0m\u001b[91mT\u001b[0m\u001b[91mG\u001b[0mAA\u001b[91mA\u001b[0mA\u001b[91mC\u001b[0m\u001b[91mA\u001b[0m\u001b[91mG\u001b[0mA\u001b[91mG\u001b[0m\u001b[91mA\u001b[0mAAAA\u001b[91mA\u001b[0m\u001b[91mT\u001b[0m\u001b[91mA\u001b[0m\u001b[91mA\u001b[0m\u001b[91mC\u001b[0m\u001b[91mT\u001b[0m\u001b[91mA\u001b[0m\u001b[91mA\u001b[0m\u001b[91mA\u001b[0mG\u001b[91mA\u001b[0mG\u001b[91mG\u001b[0m\u001b[91mC\u001b[0m\u001b[91mA\u001b[0m\u001b[91mG\u001b[0m\u001b[91mA\u001b[0m\u001b[91mA\u001b[0mA\u001b[91mT\u001b[0mT\u001b[91mA\u001b[0m\u001b[91mC\u001b[0m\u001b[91mA\u001b[0m\u001b[91mG\u001b[0m\u001b[91mA\u001b[0mAG\u001b[91mA\u001b[0m\u001b[91mA\u001b[0mA\u001b[91mC\u001b[0m\u001b[91mA\u001b[0mC\u001b[91mA\u001b[0mCT\u001b[91mC\u001b[0m\u001b[91mT\u001b[0m\u001b[91mG\u001b[0m\u001b[91mA\u001b[0mA\u001b[91mA\u001b[0mA\u001b[91mT\u001b[0m\u001b[91mC\u001b[0m\u001b[91mA\u001b[0m\u001b[91mG\u001b[0m\u001b[91mT\u001b[0m\u001b[91mC\u001b[0m"
     ]
    }
   ],
   "source": [
    "reverse_translate_gt = str(reverse_translate_record.seq)\n",
    "print(f\"GROUND TRUTH ABOVE, GENERATION BELOW, MISMATCHES IN \\033[91mRED\\033[0m\")\n",
    "print(reverse_translate_gt)\n",
    "for i in range(len(reverse_translate_gt)):\n",
    "    if i >= len(reverse_translate_res):\n",
    "        break\n",
    "    if reverse_translate_res[i] == reverse_translate_gt[i]:\n",
    "        print(reverse_translate_res[i], end=\"\")\n",
    "    else:\n",
    "        print(f\"\\033[91m{reverse_translate_res[i]}\\033[0m\", end=\"\")"
   ]
  },
  {
   "cell_type": "code",
   "execution_count": null,
   "metadata": {},
   "outputs": [],
   "source": []
  }
 ],
 "metadata": {
  "kernelspec": {
   "display_name": "torch",
   "language": "python",
   "name": "python3"
  },
  "language_info": {
   "codemirror_mode": {
    "name": "ipython",
    "version": 3
   },
   "file_extension": ".py",
   "mimetype": "text/x-python",
   "name": "python",
   "nbconvert_exporter": "python",
   "pygments_lexer": "ipython3",
   "version": "3.12.4"
  }
 },
 "nbformat": 4,
 "nbformat_minor": 2
}
